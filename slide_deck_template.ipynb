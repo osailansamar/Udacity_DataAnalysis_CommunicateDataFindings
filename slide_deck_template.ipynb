{
 "cells": [
  {
   "cell_type": "markdown",
   "metadata": {
    "slideshow": {
     "slide_type": "slide"
    }
   },
   "source": [
    "# (How feature can affect the trip duration)\n",
    "## by (Samar Osailan)"
   ]
  },
  {
   "cell_type": "markdown",
   "metadata": {
    "slideshow": {
     "slide_type": "slide"
    }
   },
   "source": [
    "## Investigation Overview\n",
    "\n",
    "> To start with, this investigation will go through the process to look up how some features can affect the duration of a trip. The main features are: user type, bikes type, start station and end station\n",
    "\n",
    "## Dataset Overview\n",
    "\n",
    "> The dataset contains 158168 trips data for Bay Wheels's Ford GoBike described as rows with 13 features described as columns which are: 1- Bike ID 2- Bike type 3- Start Time and Date 4- End Time and Date 5- Start Station Name 6- Start Station ID 7- End Station Name 8- End Station ID 9- Start Station Latitude 10- Start Station Longitude 11- End Station Latitude 12- End Station Longitude 13- User Type (Subscriber or Customer – “Subscriber” = Member or “Customer” = Casual)"
   ]
  },
  {
   "cell_type": "code",
   "execution_count": 1,
   "metadata": {
    "slideshow": {
     "slide_type": "skip"
    }
   },
   "outputs": [],
   "source": [
    "# import all packages and set plots to be embedded inline\n",
    "import numpy as np\n",
    "import pandas as pd\n",
    "import matplotlib.pyplot as plt\n",
    "import seaborn as sb\n",
    "\n",
    "%matplotlib inline\n",
    "\n",
    "# suppress warnings from final output\n",
    "import warnings\n",
    "warnings.simplefilter(\"ignore\")"
   ]
  },
  {
   "cell_type": "code",
   "execution_count": 2,
   "metadata": {
    "slideshow": {
     "slide_type": "skip"
    }
   },
   "outputs": [],
   "source": [
    "# load in the dataset into a pandas dataframe\n",
    "df = pd.read_csv(\"202006-baywheels-tripdata.csv\")"
   ]
  },
  {
   "cell_type": "code",
   "execution_count": 3,
   "metadata": {
    "slideshow": {
     "slide_type": "skip"
    }
   },
   "outputs": [],
   "source": [
    "# change start and end time to a dateframe\n",
    "df.started_at = pd.to_datetime(df.started_at)\n",
    "df.ended_at = pd.to_datetime(df.ended_at)"
   ]
  },
  {
   "cell_type": "code",
   "execution_count": 4,
   "metadata": {
    "slideshow": {
     "slide_type": "skip"
    }
   },
   "outputs": [
    {
     "data": {
      "text/html": [
       "<div>\n",
       "<style scoped>\n",
       "    .dataframe tbody tr th:only-of-type {\n",
       "        vertical-align: middle;\n",
       "    }\n",
       "\n",
       "    .dataframe tbody tr th {\n",
       "        vertical-align: top;\n",
       "    }\n",
       "\n",
       "    .dataframe thead th {\n",
       "        text-align: right;\n",
       "    }\n",
       "</style>\n",
       "<table border=\"1\" class=\"dataframe\">\n",
       "  <thead>\n",
       "    <tr style=\"text-align: right;\">\n",
       "      <th></th>\n",
       "      <th>ride_id</th>\n",
       "      <th>rideable_type</th>\n",
       "      <th>started_at</th>\n",
       "      <th>ended_at</th>\n",
       "      <th>start_station_name</th>\n",
       "      <th>start_station_id</th>\n",
       "      <th>end_station_name</th>\n",
       "      <th>end_station_id</th>\n",
       "      <th>start_lat</th>\n",
       "      <th>start_lng</th>\n",
       "      <th>end_lat</th>\n",
       "      <th>end_lng</th>\n",
       "      <th>member_casual</th>\n",
       "      <th>trip_duration</th>\n",
       "    </tr>\n",
       "  </thead>\n",
       "  <tbody>\n",
       "    <tr>\n",
       "      <th>0</th>\n",
       "      <td>08A4A9F7315901F3</td>\n",
       "      <td>electric_bike</td>\n",
       "      <td>2020-06-03 16:37:10</td>\n",
       "      <td>2020-06-03 16:48:28</td>\n",
       "      <td>NaN</td>\n",
       "      <td>NaN</td>\n",
       "      <td>NaN</td>\n",
       "      <td>NaN</td>\n",
       "      <td>37.770000</td>\n",
       "      <td>-122.40000</td>\n",
       "      <td>37.760000</td>\n",
       "      <td>-122.420000</td>\n",
       "      <td>casual</td>\n",
       "      <td>678</td>\n",
       "    </tr>\n",
       "    <tr>\n",
       "      <th>1</th>\n",
       "      <td>844F9D906468C441</td>\n",
       "      <td>electric_bike</td>\n",
       "      <td>2020-06-03 12:22:47</td>\n",
       "      <td>2020-06-03 12:44:02</td>\n",
       "      <td>NaN</td>\n",
       "      <td>NaN</td>\n",
       "      <td>NaN</td>\n",
       "      <td>NaN</td>\n",
       "      <td>37.780000</td>\n",
       "      <td>-122.49000</td>\n",
       "      <td>37.780000</td>\n",
       "      <td>-122.460000</td>\n",
       "      <td>casual</td>\n",
       "      <td>1275</td>\n",
       "    </tr>\n",
       "    <tr>\n",
       "      <th>2</th>\n",
       "      <td>0E441BF8A86C544E</td>\n",
       "      <td>electric_bike</td>\n",
       "      <td>2020-06-02 17:37:43</td>\n",
       "      <td>2020-06-02 17:52:21</td>\n",
       "      <td>Powell St at Columbus Ave</td>\n",
       "      <td>487.0</td>\n",
       "      <td>NaN</td>\n",
       "      <td>NaN</td>\n",
       "      <td>37.800426</td>\n",
       "      <td>-122.41095</td>\n",
       "      <td>37.790000</td>\n",
       "      <td>-122.440000</td>\n",
       "      <td>casual</td>\n",
       "      <td>878</td>\n",
       "    </tr>\n",
       "    <tr>\n",
       "      <th>3</th>\n",
       "      <td>CAFE64864422F475</td>\n",
       "      <td>electric_bike</td>\n",
       "      <td>2020-06-02 18:13:01</td>\n",
       "      <td>2020-06-02 18:48:30</td>\n",
       "      <td>NaN</td>\n",
       "      <td>NaN</td>\n",
       "      <td>NaN</td>\n",
       "      <td>NaN</td>\n",
       "      <td>37.760000</td>\n",
       "      <td>-122.41000</td>\n",
       "      <td>37.770000</td>\n",
       "      <td>-122.430000</td>\n",
       "      <td>casual</td>\n",
       "      <td>2129</td>\n",
       "    </tr>\n",
       "    <tr>\n",
       "      <th>4</th>\n",
       "      <td>172957A20160D568</td>\n",
       "      <td>electric_bike</td>\n",
       "      <td>2020-06-03 15:16:06</td>\n",
       "      <td>2020-06-03 16:06:10</td>\n",
       "      <td>Church St at Duboce Ave</td>\n",
       "      <td>85.0</td>\n",
       "      <td>48th Ave at Cabrillo St</td>\n",
       "      <td>521.0</td>\n",
       "      <td>37.769841</td>\n",
       "      <td>-122.42921</td>\n",
       "      <td>37.772894</td>\n",
       "      <td>-122.509079</td>\n",
       "      <td>casual</td>\n",
       "      <td>3004</td>\n",
       "    </tr>\n",
       "  </tbody>\n",
       "</table>\n",
       "</div>"
      ],
      "text/plain": [
       "            ride_id  rideable_type          started_at            ended_at  \\\n",
       "0  08A4A9F7315901F3  electric_bike 2020-06-03 16:37:10 2020-06-03 16:48:28   \n",
       "1  844F9D906468C441  electric_bike 2020-06-03 12:22:47 2020-06-03 12:44:02   \n",
       "2  0E441BF8A86C544E  electric_bike 2020-06-02 17:37:43 2020-06-02 17:52:21   \n",
       "3  CAFE64864422F475  electric_bike 2020-06-02 18:13:01 2020-06-02 18:48:30   \n",
       "4  172957A20160D568  electric_bike 2020-06-03 15:16:06 2020-06-03 16:06:10   \n",
       "\n",
       "          start_station_name  start_station_id         end_station_name  \\\n",
       "0                        NaN               NaN                      NaN   \n",
       "1                        NaN               NaN                      NaN   \n",
       "2  Powell St at Columbus Ave             487.0                      NaN   \n",
       "3                        NaN               NaN                      NaN   \n",
       "4    Church St at Duboce Ave              85.0  48th Ave at Cabrillo St   \n",
       "\n",
       "   end_station_id  start_lat  start_lng    end_lat     end_lng member_casual  \\\n",
       "0             NaN  37.770000 -122.40000  37.760000 -122.420000        casual   \n",
       "1             NaN  37.780000 -122.49000  37.780000 -122.460000        casual   \n",
       "2             NaN  37.800426 -122.41095  37.790000 -122.440000        casual   \n",
       "3             NaN  37.760000 -122.41000  37.770000 -122.430000        casual   \n",
       "4           521.0  37.769841 -122.42921  37.772894 -122.509079        casual   \n",
       "\n",
       "   trip_duration  \n",
       "0            678  \n",
       "1           1275  \n",
       "2            878  \n",
       "3           2129  \n",
       "4           3004  "
      ]
     },
     "execution_count": 4,
     "metadata": {},
     "output_type": "execute_result"
    }
   ],
   "source": [
    "# add a new column that will calculate the trip duration\n",
    "df[\"trip_duration\"] = df.ended_at - df.started_at\n",
    "df.trip_duration = df.trip_duration.dt.seconds\n",
    "df.head()"
   ]
  },
  {
   "cell_type": "markdown",
   "metadata": {
    "slideshow": {
     "slide_type": "slide"
    }
   },
   "source": [
    "## Trip duration distribution\n",
    "\n",
    "> The distirbution is right skewed where the number of trips started to increase from  about 45000 to a peak of 50000 and then it starts to fall down under 10000 for more than 2000 seconds."
   ]
  },
  {
   "cell_type": "code",
   "execution_count": 5,
   "metadata": {
    "slideshow": {
     "slide_type": "subslide"
    }
   },
   "outputs": [
    {
     "data": {
      "image/png": "[encoded data removed]",
      "text/plain": [
       "<Figure size 576x288 with 1 Axes>"
      ]
     },
     "metadata": {
      "needs_background": "light"
     },
     "output_type": "display_data"
    }
   ],
   "source": [
    "binsize = 500\n",
    "bins = np.arange(0, df['trip_duration'].max()+binsize, binsize)\n",
    "\n",
    "plt.figure(figsize=[8, 4])\n",
    "plt.hist(data = df, x = 'trip_duration', bins = bins)\n",
    "plt.title('Trips duration')\n",
    "plt.xlabel('Trip duration(s)')\n",
    "plt.ylabel('No. Trips')\n",
    "plt.axis([0, 10000, 0, 60000])\n",
    "plt.show()"
   ]
  },
  {
   "cell_type": "markdown",
   "metadata": {
    "collapsed": true,
    "slideshow": {
     "slide_type": "slide"
    }
   },
   "source": [
    "## User Type distribution\n",
    "\n",
    "> The distirbution shows that casual users got a higher percentage"
   ]
  },
  {
   "cell_type": "code",
   "execution_count": 6,
   "metadata": {
    "slideshow": {
     "slide_type": "subslide"
    }
   },
   "outputs": [
    {
     "data": {
      "image/png": "[encoded data removed]",
      "text/plain": [
       "<Figure size 576x288 with 1 Axes>"
      ]
     },
     "metadata": {
      "needs_background": "light"
     },
     "output_type": "display_data"
    }
   ],
   "source": [
    "plt.figure(figsize=[8, 4])\n",
    "plt.bar(x = df.member_casual.value_counts().keys(), height = df.member_casual.value_counts() )\n",
    "plt.title('User Types')\n",
    "plt.xlabel('User Type')\n",
    "plt.ylabel('No. Users')\n",
    "plt.show()"
   ]
  },
  {
   "cell_type": "markdown",
   "metadata": {
    "slideshow": {
     "slide_type": "slide"
    }
   },
   "source": [
    "## Bike Type distribution\n",
    "\n",
    "> The distirbution shows that electric bikes got a higher percentage"
   ]
  },
  {
   "cell_type": "code",
   "execution_count": 7,
   "metadata": {
    "slideshow": {
     "slide_type": "subslide"
    }
   },
   "outputs": [
    {
     "data": {
      "image/png": "[encoded data removed]",
      "text/plain": [
       "<Figure size 576x288 with 1 Axes>"
      ]
     },
     "metadata": {
      "needs_background": "light"
     },
     "output_type": "display_data"
    }
   ],
   "source": [
    "plt.figure(figsize=[8, 4])\n",
    "plt.bar(x = df.rideable_type.value_counts().keys(), height = df.rideable_type.value_counts() )\n",
    "plt.title('Bike Types')\n",
    "plt.xlabel('Bike Type')\n",
    "plt.ylabel('No. Bikes')\n",
    "plt.show()"
   ]
  },
  {
   "cell_type": "markdown",
   "metadata": {
    "slideshow": {
     "slide_type": "slide"
    }
   },
   "source": [
    "## The relationship between the trip duration and the user type\n",
    "\n",
    "> The distirbution shows that member users mostly got a shorter trip duration while casual users vary from short to long trips."
   ]
  },
  {
   "cell_type": "code",
   "execution_count": 8,
   "metadata": {
    "slideshow": {
     "slide_type": "subslide"
    }
   },
   "outputs": [
    {
     "data": {
      "image/png": "[encoded data removed]",
      "text/plain": [
       "<Figure size 576x288 with 1 Axes>"
      ]
     },
     "metadata": {
      "needs_background": "light"
     },
     "output_type": "display_data"
    }
   ],
   "source": [
    "plt.figure(figsize=[8,4])\n",
    "base_color = sb.color_palette()[0]\n",
    "sb.boxplot(data = df, x = 'trip_duration', y= 'member_casual', color = base_color)\n",
    "plt.title('The relationship between the trip duration and the user type')\n",
    "plt.xlabel('Trip Duration(seconds)')\n",
    "plt.ylabel('User Type')\n",
    "plt.show()"
   ]
  },
  {
   "cell_type": "markdown",
   "metadata": {
    "slideshow": {
     "slide_type": "slide"
    }
   },
   "source": [
    "## The relationship between the trip duration and the bike type\n",
    "\n",
    "> The distirbution shows that electric bike mostly got a shorter trip duration while docked bike vary from short to long trips."
   ]
  },
  {
   "cell_type": "code",
   "execution_count": 9,
   "metadata": {
    "slideshow": {
     "slide_type": "subslide"
    }
   },
   "outputs": [
    {
     "data": {
      "image/png": "[encoded data removed]",
      "text/plain": [
       "<Figure size 576x288 with 1 Axes>"
      ]
     },
     "metadata": {
      "needs_background": "light"
     },
     "output_type": "display_data"
    }
   ],
   "source": [
    "plt.figure(figsize=[8,4])\n",
    "base_color = sb.color_palette()[0]\n",
    "sb.boxplot(data = df, x = 'trip_duration', y= 'rideable_type', color = base_color)\n",
    "plt.title('The relationship between the trip duration and the bike type')\n",
    "plt.xlabel('Trip Duration(seconds)')\n",
    "plt.ylabel('Bike Type')\n",
    "plt.show()"
   ]
  },
  {
   "cell_type": "markdown",
   "metadata": {
    "slideshow": {
     "slide_type": "slide"
    }
   },
   "source": [
    "## The relationship between the trip duration, bike type and user type\n",
    "\n",
    "> The distirbution shows that casual users use docked bikes more, while member users user approximately both bike types the same."
   ]
  },
  {
   "cell_type": "code",
   "execution_count": 15,
   "metadata": {
    "slideshow": {
     "slide_type": "subslide"
    }
   },
   "outputs": [
    {
     "data": {
      "image/png": "[encoded data removed]",
      "text/plain": [
       "<Figure size 432x288 with 1 Axes>"
      ]
     },
     "metadata": {
      "needs_background": "light"
     },
     "output_type": "display_data"
    }
   ],
   "source": [
    "sb.barplot(x='rideable_type',y='trip_duration',hue='member_casual',data=df)\n",
    "plt.title('The relationship between the trip duration, start bike type and user type')\n",
    "plt.legend(bbox_to_anchor=(1.05,1), loc=2, borderaxespad=0)\n",
    "plt.show()"
   ]
  }
 ],
 "metadata": {
  "celltoolbar": "Slideshow",
  "kernelspec": {
   "display_name": "Python 3",
   "language": "python",
   "name": "python3"
  },
  "language_info": {
   "codemirror_mode": {
    "name": "ipython",
    "version": 3
   },
   "file_extension": ".py",
   "mimetype": "text/x-python",
   "name": "python",
   "nbconvert_exporter": "python",
   "pygments_lexer": "ipython3",
   "version": "3.7.6"
  }
 },
 "nbformat": 4,
 "nbformat_minor": 2
}
